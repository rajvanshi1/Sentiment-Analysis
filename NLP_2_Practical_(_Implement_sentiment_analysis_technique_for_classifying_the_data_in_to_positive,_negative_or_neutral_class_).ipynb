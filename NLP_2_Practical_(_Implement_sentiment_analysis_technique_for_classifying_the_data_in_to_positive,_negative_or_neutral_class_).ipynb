{
  "cells": [
    {
      "cell_type": "code",
      "execution_count": null,
      "id": "f9a7c9e1",
      "metadata": {
        "id": "f9a7c9e1",
        "colab": {
          "base_uri": "https://localhost:8080/"
        },
        "outputId": "d5e81547-0348-43c9-e81e-babf949911e2"
      },
      "outputs": [
        {
          "output_type": "stream",
          "name": "stdout",
          "text": [
            "Looking in indexes: https://pypi.org/simple, https://us-python.pkg.dev/colab-wheels/public/simple/\n",
            "Requirement already satisfied: textblob in /usr/local/lib/python3.8/dist-packages (0.15.3)\n",
            "Requirement already satisfied: nltk>=3.1 in /usr/local/lib/python3.8/dist-packages (from textblob) (3.7)\n",
            "Requirement already satisfied: tqdm in /usr/local/lib/python3.8/dist-packages (from nltk>=3.1->textblob) (4.64.1)\n",
            "Requirement already satisfied: joblib in /usr/local/lib/python3.8/dist-packages (from nltk>=3.1->textblob) (1.2.0)\n",
            "Requirement already satisfied: click in /usr/local/lib/python3.8/dist-packages (from nltk>=3.1->textblob) (7.1.2)\n",
            "Requirement already satisfied: regex>=2021.8.3 in /usr/local/lib/python3.8/dist-packages (from nltk>=3.1->textblob) (2022.6.2)\n"
          ]
        }
      ],
      "source": [
        "pip install textblob"
      ]
    },
    {
      "cell_type": "code",
      "execution_count": null,
      "id": "777b2682",
      "metadata": {
        "id": "777b2682",
        "colab": {
          "base_uri": "https://localhost:8080/"
        },
        "outputId": "e894c1cf-96ce-4cc3-f7cb-fa4f57ca4ae3"
      },
      "outputs": [
        {
          "output_type": "stream",
          "name": "stderr",
          "text": [
            "[nltk_data] Downloading package movie_reviews to /root/nltk_data...\n",
            "[nltk_data]   Unzipping corpora/movie_reviews.zip.\n",
            "[nltk_data] Downloading package punkt to /root/nltk_data...\n",
            "[nltk_data]   Unzipping tokenizers/punkt.zip.\n"
          ]
        }
      ],
      "source": [
        "from textblob import TextBlob\n",
        "import nltk\n",
        "nltk.download('movie_reviews')\n",
        "nltk.download('punkt')\n",
        "from textblob.sentiments import NaiveBayesAnalyzer, PatternAnalyzer"
      ]
    },
    {
      "cell_type": "code",
      "execution_count": null,
      "id": "0bc834d4",
      "metadata": {
        "id": "0bc834d4"
      },
      "outputs": [],
      "source": [
        "text = 'Apple is a very succcessful company due to its visionary leadership team. They have a very bright future'\n",
        "text1 = 'There is a lockdown in Delhi due to covid19 pandemic'\n",
        "text2 = 'Your are very bad good boy'"
      ]
    },
    {
      "cell_type": "code",
      "execution_count": null,
      "id": "c029188e",
      "metadata": {
        "id": "c029188e",
        "outputId": "05a05179-bd66-491a-d105-c34e80824e19",
        "colab": {
          "base_uri": "https://localhost:8080/"
        }
      },
      "outputs": [
        {
          "output_type": "execute_result",
          "data": {
            "text/plain": [
              "Sentiment(polarity=-0.10499999999999993, subjectivity=0.7333333333333334)"
            ]
          },
          "metadata": {},
          "execution_count": 10
        }
      ],
      "source": [
        "blob = TextBlob(text2)\n",
        "blob.sentiment"
      ]
    },
    {
      "cell_type": "code",
      "execution_count": null,
      "id": "4f8cb8e4",
      "metadata": {
        "id": "4f8cb8e4",
        "outputId": "26f4f6d6-aed1-455c-b8a9-f13f1aa25b34",
        "colab": {
          "base_uri": "https://localhost:8080/"
        }
      },
      "outputs": [
        {
          "output_type": "execute_result",
          "data": {
            "text/plain": [
              "Sentiment(classification='neg', p_pos=0.4398508161586419, p_neg=0.560149183841358)"
            ]
          },
          "metadata": {},
          "execution_count": 11
        }
      ],
      "source": [
        "blob = TextBlob(text2, analyzer=NaiveBayesAnalyzer())\n",
        "blob.sentiment"
      ]
    },
    {
      "cell_type": "code",
      "execution_count": null,
      "id": "b8faf273",
      "metadata": {
        "id": "b8faf273"
      },
      "outputs": [],
      "source": []
    },
    {
      "cell_type": "code",
      "execution_count": null,
      "id": "3586eec8",
      "metadata": {
        "id": "3586eec8"
      },
      "outputs": [],
      "source": []
    }
  ],
  "metadata": {
    "kernelspec": {
      "display_name": "Python 3 (ipykernel)",
      "language": "python",
      "name": "python3"
    },
    "language_info": {
      "codemirror_mode": {
        "name": "ipython",
        "version": 3
      },
      "file_extension": ".py",
      "mimetype": "text/x-python",
      "name": "python",
      "nbconvert_exporter": "python",
      "pygments_lexer": "ipython3",
      "version": "3.9.7"
    },
    "colab": {
      "provenance": []
    }
  },
  "nbformat": 4,
  "nbformat_minor": 5
}